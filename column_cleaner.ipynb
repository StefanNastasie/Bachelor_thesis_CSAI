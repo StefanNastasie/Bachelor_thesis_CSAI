{
 "cells": [
  {
   "cell_type": "code",
   "execution_count": 1,
   "metadata": {},
   "outputs": [],
   "source": [
    "import os\n",
    "import csv"
   ]
  },
  {
   "cell_type": "code",
   "execution_count": 27,
   "metadata": {},
   "outputs": [],
   "source": [
    "def replace_column_name(input_file, old_column_name, new_column_name):\n",
    "    # Create the output file name\n",
    "    output_file = input_file.split(\".\")[0] + \"_updated.csv\"\n",
    "\n",
    "    # Read the input file\n",
    "    with open(input_file, \"r\", newline='') as f:\n",
    "        reader = csv.DictReader(f)\n",
    "        fieldnames = reader.fieldnames\n",
    "\n",
    "        # Replace the old_column_name with the new_column_name\n",
    "        fieldnames = [new_column_name if name == old_column_name else name for name in fieldnames]\n",
    "        rows = [{new_column_name if key == old_column_name else key: row[key] for key in row} for row in reader]\n",
    "\n",
    "    # Write the output file\n",
    "    with open(output_file, \"w\", newline='') as f:\n",
    "        writer = csv.DictWriter(f, fieldnames=fieldnames)\n",
    "        writer.writeheader()\n",
    "        writer.writerows(rows)\n",
    "\n",
    "    return output_file\n"
   ]
  },
  {
   "cell_type": "code",
   "execution_count": 2,
   "metadata": {},
   "outputs": [],
   "source": [
    "folder_path_ld_clean = 'C:\\\\Users\\\\stefa\\\\OneDrive\\\\Documents\\\\UNI\\\\YEAR 3\\\\II\\\\Thesis\\\\experiments\\\\results\\\\results\\\\results_ld\\\\clean'\n",
    "folder_path_pdm_clean = 'C:\\\\Users\\\\stefa\\\\OneDrive\\\\Documents\\\\UNI\\\\YEAR 3\\\\II\\\\Thesis\\\\experiments\\\\results\\\\results\\\\results_pdm\\\\revised'\n",
    "folder_path_prpc_clean = 'C:\\\\Users\\\\stefa\\\\OneDrive\\\\Documents\\\\UNI\\\\YEAR 3\\\\II\\\\Thesis\\\\experiments\\\\results\\\\results\\\\results_prpc\\\\revised'\n",
    "\n"
   ]
  },
  {
   "cell_type": "code",
   "execution_count": 25,
   "metadata": {},
   "outputs": [],
   "source": [
    "os.chdir(folder_path_prpc_clean)"
   ]
  },
  {
   "cell_type": "code",
   "execution_count": 28,
   "metadata": {},
   "outputs": [],
   "source": [
    "for file_name in os.listdir(folder_path_prpc_clean):\n",
    "    if file_name.endswith('.csv'):\n",
    "        replace_column_name(file_name, 'participant', 'subject_nr')\n",
    "        #print('done')"
   ]
  },
  {
   "cell_type": "code",
   "execution_count": 15,
   "metadata": {},
   "outputs": [],
   "source": [
    "def add_column_with_value(input_file, column_name, value):\n",
    "    # Create the output file name\n",
    "    output_file = input_file.split(\"_\")[0] + '_' +  input_file.split(\"_\")[1] +\"_updated.csv\"\n",
    "\n",
    "    # Read the input file\n",
    "    with open(input_file, \"r\", newline='') as f:\n",
    "        reader = csv.DictReader(f)\n",
    "        fieldnames = reader.fieldnames\n",
    "\n",
    "        # Add the new column name to the fieldnames list\n",
    "        fieldnames.append(column_name)\n",
    "        rows = [{**row, column_name: value} for row in reader]\n",
    "\n",
    "    # Write the output file\n",
    "    with open(output_file, \"w\", newline='') as f:\n",
    "        writer = csv.DictWriter(f, fieldnames=fieldnames)\n",
    "        writer.writeheader()\n",
    "        writer.writerows(rows)\n",
    "\n",
    "    return output_file\n"
   ]
  },
  {
   "cell_type": "code",
   "execution_count": 4,
   "metadata": {},
   "outputs": [],
   "source": [
    "def fill_empty_cells(input_file):\n",
    "    # Create the output file name\n",
    "    output_file = input_file.split(\".\")[0] + \"_filled.csv\"\n",
    "\n",
    "    # Read the input file\n",
    "    with open(input_file, \"r\", newline='') as f:\n",
    "        reader = csv.DictReader(f)\n",
    "        fieldnames = reader.fieldnames\n",
    "\n",
    "        rows = []\n",
    "        for row in reader:\n",
    "            filled_row = {key: (value if value.strip() != '' else 'none') for key, value in row.items()}\n",
    "            rows.append(filled_row)\n",
    "\n",
    "    # Write the output file\n",
    "    with open(output_file, \"w\", newline='') as f:\n",
    "        writer = csv.DictWriter(f, fieldnames=fieldnames)\n",
    "        writer.writeheader()\n",
    "        writer.writerows(rows)\n",
    "\n",
    "    return output_file\n"
   ]
  },
  {
   "cell_type": "code",
   "execution_count": 3,
   "metadata": {},
   "outputs": [],
   "source": [
    "os.chdir(folder_path_prpc_clean)"
   ]
  },
  {
   "cell_type": "code",
   "execution_count": 16,
   "metadata": {},
   "outputs": [],
   "source": [
    "for file_name in os.listdir(folder_path_prpc_clean):\n",
    "    if file_name.endswith('.csv'):\n",
    "        add_column_with_value(file_name, 'task', 'prpc')"
   ]
  },
  {
   "cell_type": "code",
   "execution_count": 5,
   "metadata": {},
   "outputs": [],
   "source": [
    "for file_name in os.listdir(folder_path_prpc_clean):\n",
    "    if file_name.endswith('.csv'):\n",
    "        fill_empty_cells(file_name)"
   ]
  },
  {
   "cell_type": "code",
   "execution_count": 6,
   "metadata": {},
   "outputs": [],
   "source": [
    "def merge_csv_by_task(folder_path):\n",
    "    # Initialize the fieldnames list and an empty list to store the rows\n",
    "    fieldnames = None\n",
    "    all_rows = []\n",
    "\n",
    "    for file_name in os.listdir(folder_path):\n",
    "        if file_name.endswith('.csv'):\n",
    "            file_path = os.path.join(folder_path, file_name)\n",
    "\n",
    "            # Read the CSV file\n",
    "            with open(file_path, \"r\", newline='') as f:\n",
    "                reader = csv.DictReader(f)\n",
    "                current_fieldnames = reader.fieldnames\n",
    "\n",
    "                # Check if the fieldnames list is empty, or if it matches the current fieldnames\n",
    "                if fieldnames is None:\n",
    "                    fieldnames = current_fieldnames\n",
    "                elif fieldnames != current_fieldnames:\n",
    "                    raise ValueError(f\"Column names in {file_name} do not match the other files\")\n",
    "\n",
    "                # Add the rows to the all_rows list\n",
    "                all_rows.extend(list(reader))\n",
    "\n",
    "    # Create the output file name\n",
    "    output_file = os.path.join(folder_path, \"merged.csv\")\n",
    "\n",
    "    # Write the output file\n",
    "    with open(output_file, \"w\", newline='') as f:\n",
    "        writer = csv.DictWriter(f, fieldnames=fieldnames)\n",
    "        writer.writeheader()\n",
    "        writer.writerows(all_rows)\n",
    "\n",
    "    return output_file\n",
    "\n"
   ]
  },
  {
   "cell_type": "code",
   "execution_count": 8,
   "metadata": {},
   "outputs": [],
   "source": [
    "def remove_rows_by_given_column(input_file, column_name, value):\n",
    "    # Create the output file name\n",
    "    output_file = input_file.split(\".\")[0] + \"_filtered.csv\"\n",
    "\n",
    "    # Read the input file\n",
    "    with open(input_file, \"r\", newline='') as f:\n",
    "        reader = csv.DictReader(f)\n",
    "        fieldnames = reader.fieldnames\n",
    "\n",
    "        # Filter the rows based on the given column and value\n",
    "        filtered_rows = [row for row in reader if row[column_name] != value]\n",
    "\n",
    "    # Write the output file\n",
    "    with open(output_file, \"w\", newline='') as f:\n",
    "        writer = csv.DictWriter(f, fieldnames=fieldnames)\n",
    "        writer.writeheader()\n",
    "        writer.writerows(filtered_rows)\n",
    "\n",
    "    return output_file"
   ]
  },
  {
   "cell_type": "code",
   "execution_count": 11,
   "metadata": {},
   "outputs": [],
   "source": [
    "def merge_tasks(folder_path):\n",
    "    all_rows = []\n",
    "    all_fieldnames = set()\n",
    "\n",
    "    # Iterate through all files in the folder\n",
    "    for file_name in os.listdir(folder_path):\n",
    "        if file_name.endswith('.csv'):\n",
    "            file_path = os.path.join(folder_path, file_name)\n",
    "\n",
    "            # Read the CSV file\n",
    "            with open(file_path, \"r\", newline='') as f:\n",
    "                reader = csv.DictReader(f)\n",
    "                fieldnames = reader.fieldnames\n",
    "\n",
    "                # Add fieldnames to the set of all fieldnames\n",
    "                all_fieldnames.update(fieldnames)\n",
    "\n",
    "                # Add the rows to the all_rows list\n",
    "                all_rows.extend(list(reader))\n",
    "\n",
    "    # Fill missing column values with 'none'\n",
    "    filled_rows = []\n",
    "    for row in all_rows:\n",
    "        filled_row = {key: row.get(key, 'none') for key in all_fieldnames}\n",
    "        filled_rows.append(filled_row)\n",
    "\n",
    "    # Create the output file name\n",
    "    output_file = os.path.join(folder_path, \"merged.csv\")\n",
    "\n",
    "    # Write the output file\n",
    "    with open(output_file, \"w\", newline='') as f:\n",
    "        writer = csv.DictWriter(f, fieldnames=list(all_fieldnames))\n",
    "        writer.writeheader()\n",
    "        writer.writerows(filled_rows)\n",
    "\n",
    "    return output_file\n"
   ]
  },
  {
   "cell_type": "code",
   "execution_count": 10,
   "metadata": {},
   "outputs": [
    {
     "data": {
      "text/plain": [
       "'C:\\\\Users\\\\stefa\\\\OneDrive\\\\Documents\\\\UNI\\\\YEAR 3\\\\II\\\\Thesis\\\\experiments\\\\results\\\\results\\\\merged\\\\merged_ld_filtered.csv'"
      ]
     },
     "execution_count": 10,
     "metadata": {},
     "output_type": "execute_result"
    }
   ],
   "source": [
    "remove_rows_by_given_column('C:\\\\Users\\\\stefa\\\\OneDrive\\\\Documents\\\\UNI\\\\YEAR 3\\\\II\\\\Thesis\\\\experiments\\\\results\\\\results\\\\merged\\\\merged_ld.csv', 'category', 'nonword')"
   ]
  },
  {
   "cell_type": "code",
   "execution_count": 7,
   "metadata": {},
   "outputs": [
    {
     "data": {
      "text/plain": [
       "'C:\\\\Users\\\\stefa\\\\OneDrive\\\\Documents\\\\UNI\\\\YEAR 3\\\\II\\\\Thesis\\\\experiments\\\\results\\\\results\\\\results_prpc\\\\revised\\\\merged.csv'"
      ]
     },
     "execution_count": 7,
     "metadata": {},
     "output_type": "execute_result"
    }
   ],
   "source": [
    "merge_csv_by_task(folder_path_ld_clean)\n",
    "merge_csv_by_task(folder_path_pdm_clean)\n",
    "merge_csv_by_task(folder_path_prpc_clean)"
   ]
  },
  {
   "cell_type": "code",
   "execution_count": 12,
   "metadata": {},
   "outputs": [
    {
     "data": {
      "text/plain": [
       "'C:\\\\Users\\\\stefa\\\\OneDrive\\\\Documents\\\\UNI\\\\YEAR 3\\\\II\\\\Thesis\\\\experiments\\\\results\\\\results\\\\merged\\\\merged.csv'"
      ]
     },
     "execution_count": 12,
     "metadata": {},
     "output_type": "execute_result"
    }
   ],
   "source": [
    "merge_tasks('C:\\\\Users\\\\stefa\\\\OneDrive\\\\Documents\\\\UNI\\\\YEAR 3\\\\II\\\\Thesis\\\\experiments\\\\results\\\\results\\\\merged')"
   ]
  },
  {
   "cell_type": "code",
   "execution_count": null,
   "metadata": {},
   "outputs": [],
   "source": [
    "participants = {'1':['pdm', 'ld', 'prpc'], '2':['pdm', 'prpc', 'ld'], '3':['ld', 'pdm', 'prpc'], '4':['ld', 'prpc', 'pdm'], '5':['prpc', 'pdm', 'ld'], '6':['prpc', 'ld', 'pdm'], '7':['pdm', 'ld', 'prpc'], '8':['pdm', 'prpc', 'ld'], '9':['ld', 'pdm', 'prpc'], '10':['ld', 'prpc', 'pdm'], '11':['prpc', 'pdm', 'ld'], '12':['prpc', 'ld', 'pdm']}"
   ]
  }
 ],
 "metadata": {
  "kernelspec": {
   "display_name": "Python 3",
   "language": "python",
   "name": "python3"
  },
  "language_info": {
   "codemirror_mode": {
    "name": "ipython",
    "version": 3
   },
   "file_extension": ".py",
   "mimetype": "text/x-python",
   "name": "python",
   "nbconvert_exporter": "python",
   "pygments_lexer": "ipython3",
   "version": "3.9.12"
  },
  "orig_nbformat": 4
 },
 "nbformat": 4,
 "nbformat_minor": 2
}
