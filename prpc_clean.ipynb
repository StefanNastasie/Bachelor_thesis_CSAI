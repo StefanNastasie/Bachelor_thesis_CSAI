{
 "cells": [
  {
   "cell_type": "code",
   "execution_count": 1,
   "metadata": {},
   "outputs": [],
   "source": [
    "import csv\n",
    "import os\n",
    "import re"
   ]
  },
  {
   "cell_type": "code",
   "execution_count": 10,
   "metadata": {},
   "outputs": [],
   "source": [
    "def clean_prpc(input_file):\n",
    "    # Create the output file name\n",
    "    output_file = input_file.split(\".\")[0] + \"_clean.csv\"\n",
    "\n",
    "    # Extract participant number from input_file\n",
    "    participant = input_file.split('participant_')[-1].split('.csv')[0]\n",
    "\n",
    "    # List of target values to remove\n",
    "    targets_to_remove = ['reed', 'rota', 'rusk', 'sews', 'skew', 'skim', 'soya', 'spud', 'stag', 'teas', 'thug', 'volt', 'wade', 'webs', 'weds', 'yolk']\n",
    "\n",
    "    # Read the input file and filter the rows based on the 'event' column and 'target' values\n",
    "    with open(input_file, \"r\", newline='') as f:\n",
    "        reader = csv.DictReader(f)\n",
    "        output_rows = []\n",
    "\n",
    "        for row in reader:\n",
    "            if row['event'] != 'z':\n",
    "                path_parts = row['filename'].split('\\\\')\n",
    "                target = path_parts[-2]\n",
    "                components = path_parts[-1].split('_')[-1].split('.png')[0]\n",
    "\n",
    "                if target not in targets_to_remove:\n",
    "                    output_rows.append({\n",
    "                        'participant': participant,\n",
    "                        'timestamp': row['timestamp'],\n",
    "                        'event': row['event'],\n",
    "                        'target': target,\n",
    "                        'components': components\n",
    "                    })\n",
    "\n",
    "    # Write the output file\n",
    "    fieldnames = ['participant', 'timestamp', 'event', 'target', 'components']\n",
    "    with open(output_file, \"w\", newline='') as f:\n",
    "        writer = csv.DictWriter(f, fieldnames=fieldnames)\n",
    "        writer.writeheader()\n",
    "        writer.writerows(output_rows)\n",
    "\n",
    "    return output_file\n"
   ]
  },
  {
   "cell_type": "code",
   "execution_count": 3,
   "metadata": {},
   "outputs": [],
   "source": [
    "folder_path = 'C:\\\\Users\\\\stefa\\\\OneDrive\\\\Documents\\\\UNI\\\\YEAR 3\\\\II\\\\Thesis\\\\experiments\\\\results\\\\results\\\\results_prpc\\\\raw'\n",
    "os.chdir(folder_path)"
   ]
  },
  {
   "cell_type": "code",
   "execution_count": 9,
   "metadata": {},
   "outputs": [],
   "source": [
    "for file_name in os.listdir(folder_path):\n",
    "    if file_name.endswith('.csv'):\n",
    "        clean_prpc(file_name)"
   ]
  }
 ],
 "metadata": {
  "kernelspec": {
   "display_name": "Python 3",
   "language": "python",
   "name": "python3"
  },
  "language_info": {
   "codemirror_mode": {
    "name": "ipython",
    "version": 3
   },
   "file_extension": ".py",
   "mimetype": "text/x-python",
   "name": "python",
   "nbconvert_exporter": "python",
   "pygments_lexer": "ipython3",
   "version": "3.9.12"
  },
  "orig_nbformat": 4
 },
 "nbformat": 4,
 "nbformat_minor": 2
}
